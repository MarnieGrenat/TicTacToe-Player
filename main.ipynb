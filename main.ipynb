{
 "cells": [
  {
   "cell_type": "code",
   "execution_count": 2,
   "metadata": {},
   "outputs": [],
   "source": [
    "# Deps\n",
    "from functools import partial\n",
    "import json\n",
    "# Models\n",
    "from mlp.genetic_algorithm import GeneticAlgorithm\n",
    "from mlp.multilayer_perceptron import MultilayerPerceptron\n",
    "from minimax.minimax import Minimax\n",
    "# Game\n",
    "from tictactoe.board import Board as tictactoe"
   ]
  },
  {
   "cell_type": "code",
   "execution_count": 7,
   "metadata": {},
   "outputs": [],
   "source": [
    "\n",
    "def evaluate_fitness(model: MultilayerPerceptron, minimax: Minimax, chromosome: list) -> float:\n",
    "    \"\"\"\n",
    "    Função de aptidão para o Algoritmo Genético.\n",
    "\n",
    "    Parâmetros:\n",
    "    -----------\n",
    "    model : MultilayerPerceptron\n",
    "        Rede MLP que será ajustada.\n",
    "\n",
    "    minimax : Minimax\n",
    "        Adversário controlado por algoritmo de decisão.\n",
    "\n",
    "    chromosome : list\n",
    "        Vetor linear de pesos da rede MLP.\n",
    "\n",
    "    Retorna:\n",
    "    --------\n",
    "    float : valor da aptidão com base no resultado do jogo.\n",
    "        +10 vitória do MLP\n",
    "        +1 empate\n",
    "        -5 derrota\n",
    "        -20 jogada inválida\n",
    "    \"\"\"\n",
    "    board, insights = play(model, minimax)\n",
    "    model.load_weights_from_vector(board, chromosome)\n",
    "\n",
    "    if 'error' in insights and insights['error'] == 'p1':\n",
    "        return -20  # Jogada inválida do MLP\n",
    "\n",
    "    match insights['result']:\n",
    "        case 3: return 10  # X_WIN (MLP)\n",
    "        case 1: return 1   # DRAW\n",
    "        case 0: return -5  # O_WIN (Minimax)\n",
    "        case _: return 0   # fallback\n",
    "\n",
    "def play(p1, p2) -> dict:\n",
    "    \"\"\"\n",
    "    Executa uma partida entre dois agentes com método predict().\n",
    "\n",
    "    Retorna:\n",
    "    --------\n",
    "    dict com resultado e estado final do tabuleiro.\n",
    "    \"\"\"\n",
    "    ttt = tictactoe()\n",
    "\n",
    "    while True:\n",
    "        if not ttt.update_board(1,p1.predict(ttt.board)):\n",
    "            return ttt.board, {'error': 'p1', 'reason': 'P1 invalid play', 'result': -1}\n",
    "        if not ttt.is_ongoing():\n",
    "            break\n",
    "\n",
    "        if not ttt.update_board(-1, p2.predict(ttt.board)):\n",
    "            return ttt.board, {'error': 'p2', 'reason': 'P2 invalid play', 'result': -1}\n",
    "        if not ttt.is_ongoing():\n",
    "            break\n",
    "\n",
    "    return ttt.board, {'result': ttt.check_win()}\n",
    "\n",
    "def train(topology:list[int], population_size:int, pipeline=list[str], max_iter:int=100, threshold:float=0.95, learning_rate:float=0.1, verbose:bool=False, to_json:bool=True) -> MultilayerPerceptron:\n",
    "    # Definição da arquitetura da MLP\n",
    "    model = MultilayerPerceptron(topology)\n",
    "    chromosome_size = model.count_weights()\n",
    "\n",
    "    print(f'Partidas={pipeline}')\n",
    "    minimax = Minimax()\n",
    "    fitness_function = partial(evaluate_fitness, model, minimax)\n",
    "    ag = GeneticAlgorithm(\n",
    "        pop_size=population_size,\n",
    "        chromosome_size=chromosome_size,\n",
    "        fitness_function=fitness_function,\n",
    "        max_iter=max_iter,\n",
    "        learning_rate=learning_rate\n",
    "    )\n",
    "\n",
    "    for mode in pipeline:\n",
    "        print(f'\\n--- Treinando contra adversário no modo: {mode.upper()} ---')\n",
    "\n",
    "        minimax.update_mode(mode)\n",
    "        ag.run(verbose=verbose, threshold=threshold)\n",
    "\n",
    "    if to_json:\n",
    "        with open('model.json', '+w') as f:\n",
    "            f.write(json.dumps(model.to_json()))\n",
    "    return model"
   ]
  },
  {
   "cell_type": "code",
   "execution_count": 9,
   "metadata": {},
   "outputs": [
    {
     "name": "stdout",
     "output_type": "stream",
     "text": [
      "Partidas=['medium', 'medium', 'medium', 'hard', 'hard', 'hard', 'hard', 'hard']\n"
     ]
    },
    {
     "ename": "TypeError",
     "evalue": "GeneticAlgorithm.__init__() got an unexpected keyword argument 'learning_rate'",
     "output_type": "error",
     "traceback": [
      "\u001b[31m---------------------------------------------------------------------------\u001b[39m",
      "\u001b[31mTypeError\u001b[39m                                 Traceback (most recent call last)",
      "\u001b[36mCell\u001b[39m\u001b[36m \u001b[39m\u001b[32mIn[9]\u001b[39m\u001b[32m, line 6\u001b[39m\n\u001b[32m      1\u001b[39m PIPELINE = (\n\u001b[32m      2\u001b[39m     \u001b[32m3\u001b[39m * [\u001b[33m'\u001b[39m\u001b[33mmedium\u001b[39m\u001b[33m'\u001b[39m] +\n\u001b[32m      3\u001b[39m     \u001b[32m5\u001b[39m * [\u001b[33m'\u001b[39m\u001b[33mhard\u001b[39m\u001b[33m'\u001b[39m]\n\u001b[32m      4\u001b[39m )\n\u001b[32m----> \u001b[39m\u001b[32m6\u001b[39m model = \u001b[43mtrain\u001b[49m\u001b[43m(\u001b[49m\n\u001b[32m      7\u001b[39m \u001b[43m    \u001b[49m\u001b[43mtopology\u001b[49m\u001b[43m=\u001b[49m\u001b[43m[\u001b[49m\u001b[32;43m9\u001b[39;49m\u001b[43m,\u001b[49m\u001b[43m \u001b[49m\u001b[32;43m9\u001b[39;49m\u001b[43m \u001b[49m\u001b[43m,\u001b[49m\u001b[32;43m9\u001b[39;49m\u001b[43m]\u001b[49m\u001b[43m,\u001b[49m\n\u001b[32m      8\u001b[39m \u001b[43m    \u001b[49m\u001b[43mpopulation_size\u001b[49m\u001b[43m=\u001b[49m\u001b[32;43m10\u001b[39;49m\u001b[43m,\u001b[49m\n\u001b[32m      9\u001b[39m \u001b[43m    \u001b[49m\u001b[43mpipeline\u001b[49m\u001b[43m=\u001b[49m\u001b[43mPIPELINE\u001b[49m\u001b[43m,\u001b[49m\n\u001b[32m     10\u001b[39m \u001b[43m    \u001b[49m\u001b[43mmax_iter\u001b[49m\u001b[43m=\u001b[49m\u001b[32;43m10\u001b[39;49m\n\u001b[32m     11\u001b[39m \u001b[43m    \u001b[49m\u001b[43m)\u001b[49m\n",
      "\u001b[36mCell\u001b[39m\u001b[36m \u001b[39m\u001b[32mIn[7]\u001b[39m\u001b[32m, line 67\u001b[39m, in \u001b[36mtrain\u001b[39m\u001b[34m(topology, population_size, pipeline, max_iter, threshold, learning_rate, verbose, to_json)\u001b[39m\n\u001b[32m     65\u001b[39m minimax = Minimax()\n\u001b[32m     66\u001b[39m fitness_function = partial(evaluate_fitness, model, minimax)\n\u001b[32m---> \u001b[39m\u001b[32m67\u001b[39m ag = \u001b[43mGeneticAlgorithm\u001b[49m\u001b[43m(\u001b[49m\n\u001b[32m     68\u001b[39m \u001b[43m    \u001b[49m\u001b[43mpop_size\u001b[49m\u001b[43m=\u001b[49m\u001b[43mpopulation_size\u001b[49m\u001b[43m,\u001b[49m\n\u001b[32m     69\u001b[39m \u001b[43m    \u001b[49m\u001b[43mchromosome_size\u001b[49m\u001b[43m=\u001b[49m\u001b[43mchromosome_size\u001b[49m\u001b[43m,\u001b[49m\n\u001b[32m     70\u001b[39m \u001b[43m    \u001b[49m\u001b[43mfitness_function\u001b[49m\u001b[43m=\u001b[49m\u001b[43mfitness_function\u001b[49m\u001b[43m,\u001b[49m\n\u001b[32m     71\u001b[39m \u001b[43m    \u001b[49m\u001b[43mmax_iter\u001b[49m\u001b[43m=\u001b[49m\u001b[43mmax_iter\u001b[49m\u001b[43m,\u001b[49m\n\u001b[32m     72\u001b[39m \u001b[43m    \u001b[49m\u001b[43mlearning_rate\u001b[49m\u001b[43m=\u001b[49m\u001b[43mlearning_rate\u001b[49m\n\u001b[32m     73\u001b[39m \u001b[43m\u001b[49m\u001b[43m)\u001b[49m\n\u001b[32m     75\u001b[39m \u001b[38;5;28;01mfor\u001b[39;00m mode \u001b[38;5;129;01min\u001b[39;00m pipeline:\n\u001b[32m     76\u001b[39m     \u001b[38;5;28mprint\u001b[39m(\u001b[33mf\u001b[39m\u001b[33m'\u001b[39m\u001b[38;5;130;01m\\n\u001b[39;00m\u001b[33m--- Treinando contra adversário no modo: \u001b[39m\u001b[38;5;132;01m{\u001b[39;00mmode.upper()\u001b[38;5;132;01m}\u001b[39;00m\u001b[33m ---\u001b[39m\u001b[33m'\u001b[39m)\n",
      "\u001b[31mTypeError\u001b[39m: GeneticAlgorithm.__init__() got an unexpected keyword argument 'learning_rate'"
     ]
    }
   ],
   "source": [
    "PIPELINE = (\n",
    "    3 * ['medium'] +\n",
    "    5 * ['hard']\n",
    ")\n",
    "\n",
    "model = train(\n",
    "    topology=[9, 9 ,9],\n",
    "    population_size=10,\n",
    "    pipeline=PIPELINE,\n",
    "    max_iter=10\n",
    "    )"
   ]
  },
  {
   "cell_type": "code",
   "execution_count": 6,
   "metadata": {},
   "outputs": [
    {
     "data": {
      "text/plain": [
       "6"
      ]
     },
     "execution_count": 6,
     "metadata": {},
     "output_type": "execute_result"
    }
   ],
   "source": [
    "model.predict([0, -1, -1, 0, 0, 0, 0, 0, 0])"
   ]
  },
  {
   "cell_type": "code",
   "execution_count": null,
   "metadata": {},
   "outputs": [],
   "source": [
    "\n"
   ]
  }
 ],
 "metadata": {
  "kernelspec": {
   "display_name": "TicTacToe",
   "language": "python",
   "name": "python3"
  },
  "language_info": {
   "codemirror_mode": {
    "name": "ipython",
    "version": 3
   },
   "file_extension": ".py",
   "mimetype": "text/x-python",
   "name": "python",
   "nbconvert_exporter": "python",
   "pygments_lexer": "ipython3",
   "version": "3.12.2"
  }
 },
 "nbformat": 4,
 "nbformat_minor": 2
}
